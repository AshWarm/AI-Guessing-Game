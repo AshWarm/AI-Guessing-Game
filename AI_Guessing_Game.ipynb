{
  "nbformat": 4,
  "nbformat_minor": 0,
  "metadata": {
    "colab": {
      "provenance": []
    },
    "kernelspec": {
      "name": "python3",
      "display_name": "Python 3"
    },
    "language_info": {
      "name": "python"
    }
  },
  "cells": [
    {
      "cell_type": "code",
      "execution_count": null,
      "metadata": {
        "id": "OzkRHw1PiAQw"
      },
      "outputs": [],
      "source": [
        "import random\n",
        "\n",
        "player_number = int(input(\"Enter your number (between 0 and 100): \"))\n",
        "AI_guess = random.randint(0, 100)\n",
        "print(\"AI's initial guess:\", AI_guess)\n",
        "\n",
        "num_of_guesses = 1\n",
        "guess_list = [AI_guess]\n",
        "\n",
        "while AI_guess != player_number:\n",
        "    response = input(\"Is the number I guessed greater than (>,), less than (<), or equal to (=) the number you choose? \")\n",
        "    if response == '>':\n",
        "        print(\"Oh no!\", AI_guess, \"is greater than the player's number. Try again! \")\n",
        "        new_guess = random.randint(0, AI_guess)\n",
        "        while new_guess in guess_list:\n",
        "            new_guess = random.randint(0, AI_guess)\n",
        "        AI_guess = new_guess\n",
        "    elif response == '<':\n",
        "        print(\"Oh no!\", AI_guess, \"is less than the player's number. Try again! \")\n",
        "        new_guess = random.randint(AI_guess, 100)\n",
        "        while new_guess in guess_list:\n",
        "            new_guess = random.randint(AI_guess, 100)\n",
        "        AI_guess = new_guess\n",
        "    elif response == '=':\n",
        "        print(\"You did it! You guessed the number correctly! It only took\", num_of_guesses, \"guesses to get it right!\")\n",
        "        break\n",
        "    else:\n",
        "        print(\"Invalid response! Please enter >, <, or =.\")\n",
        "        continue\n",
        "\n",
        "    guess_list.append(AI_guess)\n",
        "    print(\"AI's new guess:\", AI_guess)\n",
        "    num_of_guesses += 1\n",
        "\n",
        "if AI_guess == player_number:\n",
        "    print(\"You did it! You guessed the number correctly! It only took\", num_of_guesses, \"guesses to get it right!\")"
      ]
    }
  ]
}